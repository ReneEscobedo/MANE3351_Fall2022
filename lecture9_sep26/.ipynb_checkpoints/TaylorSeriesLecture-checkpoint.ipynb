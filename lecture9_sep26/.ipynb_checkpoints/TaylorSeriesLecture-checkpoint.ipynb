{
 "cells": [
  {
   "cell_type": "markdown",
   "metadata": {},
   "source": [
    "###### September 26 Lecture\n",
    "\n",
    "## Taylor Series"
   ]
  },
  {
   "cell_type": "code",
   "execution_count": 1,
   "metadata": {
    "scrolled": true
   },
   "outputs": [
    {
     "ename": "ModuleNotFoundError",
     "evalue": "No module named 'numpy'",
     "output_type": "error",
     "traceback": [
      "\u001b[1;31m---------------------------------------------------------------------------\u001b[0m",
      "\u001b[1;31mModuleNotFoundError\u001b[0m                       Traceback (most recent call last)",
      "Cell \u001b[1;32mIn [1], line 2\u001b[0m\n\u001b[0;32m      1\u001b[0m \u001b[38;5;28;01mimport\u001b[39;00m \u001b[38;5;21;01mmath\u001b[39;00m\n\u001b[1;32m----> 2\u001b[0m \u001b[38;5;28;01mimport\u001b[39;00m \u001b[38;5;21;01mnumpy\u001b[39;00m \u001b[38;5;28;01mas\u001b[39;00m \u001b[38;5;21;01mnp\u001b[39;00m\n\u001b[0;32m      3\u001b[0m \u001b[38;5;28;01mimport\u001b[39;00m \u001b[38;5;21;01mmatplotlib\u001b[39;00m\u001b[38;5;21;01m.\u001b[39;00m\u001b[38;5;21;01mpyplot\u001b[39;00m \u001b[38;5;28;01mas\u001b[39;00m \u001b[38;5;21;01mplt\u001b[39;00m\n\u001b[0;32m      4\u001b[0m \u001b[38;5;28;01mdef\u001b[39;00m \u001b[38;5;21meTaylor\u001b[39m(x,k):\n",
      "\u001b[1;31mModuleNotFoundError\u001b[0m: No module named 'numpy'"
     ]
    }
   ],
   "source": [
    "import math\n",
    "import numpy as np\n",
    "import matplotlib.pyplot as plt\n",
    "def eTaylor(x,k):\n",
    "    y=0.0\n",
    "    for i in range(k):\n",
    "        y=y+(x**i)/math.factorial(i)   \n",
    "        # print(\"i=\",i,\" y=\",y,\" i!= \",math.factorial(i),\" x^i=\",x**i)\n",
    "    return y\n",
    "k=np.arange(21)\n",
    "#print(k)\n",
    "y=0.0*k\n",
    "for i in np.nditer(k):\n",
    "#    print(i)\n",
    "    y[i]=eTaylor(8,i)\n",
    "#print(y)\n",
    "#plotting code\n",
    "fig, ax = plt.subplots()\n",
    "ax.plot(k, y)\n",
    "ax.set(xlabel='k', ylabel='e^8(k)',\n",
    "       title='Taylor Series Approximation')\n",
    "plt.show()"
   ]
  },
  {
   "cell_type": "code",
   "execution_count": null,
   "metadata": {},
   "outputs": [],
   "source": [
    "# Cell 3\n",
    "# error analysis of Taylor Series approximation of e^8\n",
    "# assumes cell two has been run\n",
    "er=0.0*k\n",
    "for i in np.nditer(k):\n",
    "    er[i]=math.exp(8)-y[i]\n",
    "fig, ax = plt.subplots()\n",
    "ax.plot(k, er)\n",
    "ax.set(xlabel='k', ylabel='error',\n",
    "       title='Taylor Series Approximation')\n",
    "plt.show()"
   ]
  },
  {
   "cell_type": "code",
   "execution_count": null,
   "metadata": {},
   "outputs": [],
   "source": [
    "# cell 4\n",
    "# Demonstration of T1, T2 and T3 for sine\n",
    "def T1(x):\n",
    "    return x\n",
    "def T2(x):\n",
    "    return x - x**3/6.0\n",
    "def T3(u):\n",
    "    return T2(u)+u**5/120.0\n",
    "x=np.linspace(-math.pi,math.pi,101)\n",
    "t1=0.0*x\n",
    "t2=0.0*x\n",
    "t3=0.0*x\n",
    "sin_x=0.0*x\n",
    "for i in range(0,len(x)):\n",
    "    t1[i]=T1(x[i])\n",
    "    t2[i]=T2(x[i])\n",
    "    t3[i]=T3(x[i])\n",
    "    sin_x[i]=math.sin(x[i])\n",
    "fig, ax = plt.subplots()\n",
    "ax.plot(x, sin_x,label=\"sine(x)\")\n",
    "ax.plot(x,t1,label=\"T1\")\n",
    "ax.plot(x,t2,label=\"T2\")\n",
    "ax.plot(x,t3,label=\"T3\")\n",
    "ax.set(xlabel='x', ylabel='f(x)',\n",
    "       title='Taylor Series Approximation of sine')\n",
    "ax.legend()\n",
    "plt.show()"
   ]
  },
  {
   "cell_type": "code",
   "execution_count": null,
   "metadata": {},
   "outputs": [],
   "source": []
  }
 ],
 "metadata": {
  "kernelspec": {
   "display_name": "Python 3 (ipykernel)",
   "language": "python",
   "name": "python3"
  },
  "language_info": {
   "codemirror_mode": {
    "name": "ipython",
    "version": 3
   },
   "file_extension": ".py",
   "mimetype": "text/x-python",
   "name": "python",
   "nbconvert_exporter": "python",
   "pygments_lexer": "ipython3",
   "version": "3.9.13"
  }
 },
 "nbformat": 4,
 "nbformat_minor": 2
}
